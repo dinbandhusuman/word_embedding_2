{
 "cells": [
  {
   "cell_type": "raw",
   "id": "abc27214",
   "metadata": {
    "_cell_guid": "b1076dfc-b9ad-4769-8c92-a6c4dae69d19",
    "_uuid": "8f2839f25d086af736a60e9eeb907d3b93b6e0e5",
    "papermill": {
     "duration": 0.007607,
     "end_time": "2023-03-30T12:49:40.556765",
     "exception": false,
     "start_time": "2023-03-30T12:49:40.549158",
     "status": "completed"
    },
    "tags": []
   },
   "source": [
    "# This Python 3 environment comes with many helpful analytics libraries installed\n",
    "# It is defined by the kaggle/python Docker image: https://github.com/kaggle/docker-python\n",
    "# For example, here's several helpful packages to load\n",
    "\n",
    "import numpy as np # linear algebra\n",
    "import pandas as pd # data processing, CSV file I/O (e.g. pd.read_csv)\n",
    "\n",
    "# Input data files are available in the read-only \"../input/\" directory\n",
    "# For example, running this (by clicking run or pressing Shift+Enter) will list all files under the input directory\n",
    "\n",
    "import os\n",
    "for dirname, _, filenames in os.walk('/kaggle/input'):\n",
    "    for filename in filenames:\n",
    "        print(os.path.join(dirname, filename))\n",
    "\n",
    "# You can write up to 20GB to the current directory (/kaggle/working/) that gets preserved as output when you create a version using \"Save & Run All\" \n",
    "# You can also write temporary files to /kaggle/temp/, but they won't be saved outside of the current session"
   ]
  },
  {
   "cell_type": "markdown",
   "id": "8b66163a",
   "metadata": {
    "papermill": {
     "duration": 0.006407,
     "end_time": "2023-03-30T12:49:40.569894",
     "exception": false,
     "start_time": "2023-03-30T12:49:40.563487",
     "status": "completed"
    },
    "tags": []
   },
   "source": [
    "Loading important libraries"
   ]
  },
  {
   "cell_type": "code",
   "execution_count": 1,
   "id": "adb4d84e",
   "metadata": {
    "execution": {
     "iopub.execute_input": "2023-03-30T12:49:40.584413Z",
     "iopub.status.busy": "2023-03-30T12:49:40.583942Z",
     "iopub.status.idle": "2023-03-30T12:49:48.575777Z",
     "shell.execute_reply": "2023-03-30T12:49:48.574433Z"
    },
    "papermill": {
     "duration": 8.002692,
     "end_time": "2023-03-30T12:49:48.578771",
     "exception": false,
     "start_time": "2023-03-30T12:49:40.576079",
     "status": "completed"
    },
    "tags": []
   },
   "outputs": [],
   "source": [
    "import tensorflow as tf\n",
    "from tensorflow.keras.preprocessing.text import one_hot\n",
    "from tensorflow.keras.layers import Embedding,LSTM,Flatten\n",
    "from tensorflow.keras.preprocessing.sequence import pad_sequences\n",
    "from tensorflow.keras.models import Sequential"
   ]
  },
  {
   "cell_type": "code",
   "execution_count": 2,
   "id": "d94b1a23",
   "metadata": {
    "execution": {
     "iopub.execute_input": "2023-03-30T12:49:48.593573Z",
     "iopub.status.busy": "2023-03-30T12:49:48.592712Z",
     "iopub.status.idle": "2023-03-30T12:49:48.599366Z",
     "shell.execute_reply": "2023-03-30T12:49:48.598102Z"
    },
    "papermill": {
     "duration": 0.016579,
     "end_time": "2023-03-30T12:49:48.601683",
     "exception": false,
     "start_time": "2023-03-30T12:49:48.585104",
     "status": "completed"
    },
    "tags": []
   },
   "outputs": [],
   "source": [
    "text = ['Well done!',\n",
    " 'Good work',\n",
    " 'Great effort',\n",
    " 'nice work',\n",
    " 'Excellent!',\n",
    " 'Weak',\n",
    " 'Poor effort!',\n",
    " 'not good',\n",
    " 'poor work',\n",
    " 'Could have done better']"
   ]
  },
  {
   "cell_type": "code",
   "execution_count": 3,
   "id": "53a0111e",
   "metadata": {
    "execution": {
     "iopub.execute_input": "2023-03-30T12:49:48.615915Z",
     "iopub.status.busy": "2023-03-30T12:49:48.615471Z",
     "iopub.status.idle": "2023-03-30T12:49:48.624003Z",
     "shell.execute_reply": "2023-03-30T12:49:48.622781Z"
    },
    "papermill": {
     "duration": 0.018495,
     "end_time": "2023-03-30T12:49:48.626334",
     "exception": false,
     "start_time": "2023-03-30T12:49:48.607839",
     "status": "completed"
    },
    "tags": []
   },
   "outputs": [
    {
     "data": {
      "text/plain": [
       "['Well done!',\n",
       " 'Good work',\n",
       " 'Great effort',\n",
       " 'nice work',\n",
       " 'Excellent!',\n",
       " 'Weak',\n",
       " 'Poor effort!',\n",
       " 'not good',\n",
       " 'poor work',\n",
       " 'Could have done better']"
      ]
     },
     "execution_count": 3,
     "metadata": {},
     "output_type": "execute_result"
    }
   ],
   "source": [
    "text"
   ]
  },
  {
   "cell_type": "code",
   "execution_count": 4,
   "id": "d1c55e75",
   "metadata": {
    "execution": {
     "iopub.execute_input": "2023-03-30T12:49:48.641124Z",
     "iopub.status.busy": "2023-03-30T12:49:48.640506Z",
     "iopub.status.idle": "2023-03-30T12:49:48.648435Z",
     "shell.execute_reply": "2023-03-30T12:49:48.647214Z"
    },
    "papermill": {
     "duration": 0.018646,
     "end_time": "2023-03-30T12:49:48.651142",
     "exception": false,
     "start_time": "2023-03-30T12:49:48.632496",
     "status": "completed"
    },
    "tags": []
   },
   "outputs": [
    {
     "data": {
      "text/plain": [
       "[[556, 3397],\n",
       " [1455, 8276],\n",
       " [9921, 809],\n",
       " [826, 8276],\n",
       " [4696],\n",
       " [1121],\n",
       " [2634, 809],\n",
       " [5074, 1455],\n",
       " [2634, 8276],\n",
       " [3174, 3729, 3397, 7795]]"
      ]
     },
     "execution_count": 4,
     "metadata": {},
     "output_type": "execute_result"
    }
   ],
   "source": [
    "#ohe_hot_representation\n",
    "vocal_length = 10000\n",
    "one_hot_rep = [one_hot(word,vocal_length) for word in text]\n",
    "one_hot_rep"
   ]
  },
  {
   "cell_type": "code",
   "execution_count": 5,
   "id": "eb1e3f37",
   "metadata": {
    "execution": {
     "iopub.execute_input": "2023-03-30T12:49:48.666565Z",
     "iopub.status.busy": "2023-03-30T12:49:48.666116Z",
     "iopub.status.idle": "2023-03-30T12:49:48.676025Z",
     "shell.execute_reply": "2023-03-30T12:49:48.674660Z"
    },
    "papermill": {
     "duration": 0.020684,
     "end_time": "2023-03-30T12:49:48.678641",
     "exception": false,
     "start_time": "2023-03-30T12:49:48.657957",
     "status": "completed"
    },
    "tags": []
   },
   "outputs": [
    {
     "data": {
      "text/plain": [
       "array([[   0,    0,    0,    0,  556, 3397],\n",
       "       [   0,    0,    0,    0, 1455, 8276],\n",
       "       [   0,    0,    0,    0, 9921,  809],\n",
       "       [   0,    0,    0,    0,  826, 8276],\n",
       "       [   0,    0,    0,    0,    0, 4696],\n",
       "       [   0,    0,    0,    0,    0, 1121],\n",
       "       [   0,    0,    0,    0, 2634,  809],\n",
       "       [   0,    0,    0,    0, 5074, 1455],\n",
       "       [   0,    0,    0,    0, 2634, 8276],\n",
       "       [   0,    0, 3174, 3729, 3397, 7795]], dtype=int32)"
      ]
     },
     "execution_count": 5,
     "metadata": {},
     "output_type": "execute_result"
    }
   ],
   "source": [
    "#padding\n",
    "sent_length = 6\n",
    "text_padd = pad_sequences(one_hot_rep,padding='pre',maxlen=sent_length)\n",
    "text_padd"
   ]
  },
  {
   "cell_type": "code",
   "execution_count": 6,
   "id": "2905ce72",
   "metadata": {
    "execution": {
     "iopub.execute_input": "2023-03-30T12:49:48.693947Z",
     "iopub.status.busy": "2023-03-30T12:49:48.692991Z",
     "iopub.status.idle": "2023-03-30T12:49:48.853988Z",
     "shell.execute_reply": "2023-03-30T12:49:48.852605Z"
    },
    "papermill": {
     "duration": 0.171779,
     "end_time": "2023-03-30T12:49:48.857020",
     "exception": false,
     "start_time": "2023-03-30T12:49:48.685241",
     "status": "completed"
    },
    "tags": []
   },
   "outputs": [],
   "source": [
    "#Ebedding---\n",
    "model = Sequential()\n",
    "model.add(Embedding(vocal_length,5,input_length = sent_length))\n",
    "model.compile('adam','mse')"
   ]
  },
  {
   "cell_type": "code",
   "execution_count": 7,
   "id": "ef9b7f3e",
   "metadata": {
    "execution": {
     "iopub.execute_input": "2023-03-30T12:49:48.872851Z",
     "iopub.status.busy": "2023-03-30T12:49:48.871958Z",
     "iopub.status.idle": "2023-03-30T12:49:48.893203Z",
     "shell.execute_reply": "2023-03-30T12:49:48.891860Z"
    },
    "papermill": {
     "duration": 0.031698,
     "end_time": "2023-03-30T12:49:48.895561",
     "exception": false,
     "start_time": "2023-03-30T12:49:48.863863",
     "status": "completed"
    },
    "tags": []
   },
   "outputs": [
    {
     "name": "stdout",
     "output_type": "stream",
     "text": [
      "Model: \"sequential\"\n",
      "_________________________________________________________________\n",
      " Layer (type)                Output Shape              Param #   \n",
      "=================================================================\n",
      " embedding (Embedding)       (None, 6, 5)              50000     \n",
      "                                                                 \n",
      "=================================================================\n",
      "Total params: 50,000\n",
      "Trainable params: 50,000\n",
      "Non-trainable params: 0\n",
      "_________________________________________________________________\n"
     ]
    }
   ],
   "source": [
    "model.summary()"
   ]
  },
  {
   "cell_type": "code",
   "execution_count": null,
   "id": "1bcf8a97",
   "metadata": {
    "papermill": {
     "duration": 0.006931,
     "end_time": "2023-03-30T12:49:48.909648",
     "exception": false,
     "start_time": "2023-03-30T12:49:48.902717",
     "status": "completed"
    },
    "tags": []
   },
   "outputs": [],
   "source": []
  },
  {
   "cell_type": "code",
   "execution_count": null,
   "id": "3a4ea659",
   "metadata": {
    "papermill": {
     "duration": 0.00678,
     "end_time": "2023-03-30T12:49:48.923798",
     "exception": false,
     "start_time": "2023-03-30T12:49:48.917018",
     "status": "completed"
    },
    "tags": []
   },
   "outputs": [],
   "source": []
  },
  {
   "cell_type": "code",
   "execution_count": null,
   "id": "2d9e1d6c",
   "metadata": {
    "papermill": {
     "duration": 0.006771,
     "end_time": "2023-03-30T12:49:48.937591",
     "exception": false,
     "start_time": "2023-03-30T12:49:48.930820",
     "status": "completed"
    },
    "tags": []
   },
   "outputs": [],
   "source": []
  },
  {
   "cell_type": "markdown",
   "id": "596fa324",
   "metadata": {
    "execution": {
     "iopub.execute_input": "2023-03-30T12:46:27.312164Z",
     "iopub.status.busy": "2023-03-30T12:46:27.311841Z",
     "iopub.status.idle": "2023-03-30T12:46:27.321453Z",
     "shell.execute_reply": "2023-03-30T12:46:27.319029Z",
     "shell.execute_reply.started": "2023-03-30T12:46:27.312132Z"
    },
    "papermill": {
     "duration": 0.006759,
     "end_time": "2023-03-30T12:49:48.951506",
     "exception": false,
     "start_time": "2023-03-30T12:49:48.944747",
     "status": "completed"
    },
    "tags": []
   },
   "source": [
    "-----------------------------------------------------------------------------------------------------------"
   ]
  },
  {
   "cell_type": "markdown",
   "id": "e0dd623d",
   "metadata": {
    "papermill": {
     "duration": 0.006671,
     "end_time": "2023-03-30T12:49:48.965263",
     "exception": false,
     "start_time": "2023-03-30T12:49:48.958592",
     "status": "completed"
    },
    "tags": []
   },
   "source": [
    "# Apply models"
   ]
  },
  {
   "cell_type": "code",
   "execution_count": 8,
   "id": "a5fffeb5",
   "metadata": {
    "execution": {
     "iopub.execute_input": "2023-03-30T12:49:48.982228Z",
     "iopub.status.busy": "2023-03-30T12:49:48.981564Z",
     "iopub.status.idle": "2023-03-30T12:49:48.986532Z",
     "shell.execute_reply": "2023-03-30T12:49:48.985705Z"
    },
    "papermill": {
     "duration": 0.015632,
     "end_time": "2023-03-30T12:49:48.988611",
     "exception": false,
     "start_time": "2023-03-30T12:49:48.972979",
     "status": "completed"
    },
    "tags": []
   },
   "outputs": [],
   "source": [
    "from tensorflow.keras.preprocessing.text import one_hot\n",
    "from tensorflow.keras.preprocessing.sequence import pad_sequences\n",
    "from tensorflow.keras.layers import Embedding,Flatten,Dense\n",
    "from tensorflow.keras.models import Sequential\n",
    "import numpy as np\n",
    "import pandas as pd"
   ]
  },
  {
   "cell_type": "code",
   "execution_count": 9,
   "id": "de30ef72",
   "metadata": {
    "execution": {
     "iopub.execute_input": "2023-03-30T12:49:49.005035Z",
     "iopub.status.busy": "2023-03-30T12:49:49.004394Z",
     "iopub.status.idle": "2023-03-30T12:49:49.009937Z",
     "shell.execute_reply": "2023-03-30T12:49:49.008696Z"
    },
    "papermill": {
     "duration": 0.016743,
     "end_time": "2023-03-30T12:49:49.012449",
     "exception": false,
     "start_time": "2023-03-30T12:49:48.995706",
     "status": "completed"
    },
    "tags": []
   },
   "outputs": [],
   "source": [
    "sentences = ['Well done!',\n",
    " 'Good work',\n",
    " 'Great effort',\n",
    " 'nice work',\n",
    " 'Excellent!',\n",
    " 'Weak',\n",
    " 'Poor effort!',\n",
    " 'not good',\n",
    " 'poor work',\n",
    " 'Could have done better']\n",
    "labels = np.array([1,1,1,1,1,0,0,0,0,0])"
   ]
  },
  {
   "cell_type": "code",
   "execution_count": 10,
   "id": "16bd37e6",
   "metadata": {
    "execution": {
     "iopub.execute_input": "2023-03-30T12:49:49.029234Z",
     "iopub.status.busy": "2023-03-30T12:49:49.028818Z",
     "iopub.status.idle": "2023-03-30T12:49:49.035689Z",
     "shell.execute_reply": "2023-03-30T12:49:49.034541Z"
    },
    "papermill": {
     "duration": 0.017848,
     "end_time": "2023-03-30T12:49:49.038052",
     "exception": false,
     "start_time": "2023-03-30T12:49:49.020204",
     "status": "completed"
    },
    "tags": []
   },
   "outputs": [
    {
     "data": {
      "text/plain": [
       "['Well done!',\n",
       " 'Good work',\n",
       " 'Great effort',\n",
       " 'nice work',\n",
       " 'Excellent!',\n",
       " 'Weak',\n",
       " 'Poor effort!',\n",
       " 'not good',\n",
       " 'poor work',\n",
       " 'Could have done better']"
      ]
     },
     "execution_count": 10,
     "metadata": {},
     "output_type": "execute_result"
    }
   ],
   "source": [
    "sentences"
   ]
  },
  {
   "cell_type": "code",
   "execution_count": 11,
   "id": "658854b5",
   "metadata": {
    "execution": {
     "iopub.execute_input": "2023-03-30T12:49:49.054375Z",
     "iopub.status.busy": "2023-03-30T12:49:49.053936Z",
     "iopub.status.idle": "2023-03-30T12:49:49.061055Z",
     "shell.execute_reply": "2023-03-30T12:49:49.060081Z"
    },
    "papermill": {
     "duration": 0.017905,
     "end_time": "2023-03-30T12:49:49.063099",
     "exception": false,
     "start_time": "2023-03-30T12:49:49.045194",
     "status": "completed"
    },
    "tags": []
   },
   "outputs": [
    {
     "data": {
      "text/plain": [
       "array([1, 1, 1, 1, 1, 0, 0, 0, 0, 0])"
      ]
     },
     "execution_count": 11,
     "metadata": {},
     "output_type": "execute_result"
    }
   ],
   "source": [
    "labels"
   ]
  },
  {
   "cell_type": "code",
   "execution_count": 12,
   "id": "8d613280",
   "metadata": {
    "execution": {
     "iopub.execute_input": "2023-03-30T12:49:49.079941Z",
     "iopub.status.busy": "2023-03-30T12:49:49.079137Z",
     "iopub.status.idle": "2023-03-30T12:49:49.088635Z",
     "shell.execute_reply": "2023-03-30T12:49:49.087518Z"
    },
    "papermill": {
     "duration": 0.020315,
     "end_time": "2023-03-30T12:49:49.090896",
     "exception": false,
     "start_time": "2023-03-30T12:49:49.070581",
     "status": "completed"
    },
    "tags": []
   },
   "outputs": [
    {
     "data": {
      "text/plain": [
       "[[48, 49],\n",
       " [2, 39],\n",
       " [25, 6],\n",
       " [49, 39],\n",
       " [2],\n",
       " [13],\n",
       " [9, 6],\n",
       " [23, 2],\n",
       " [9, 39],\n",
       " [48, 20, 49, 38]]"
      ]
     },
     "execution_count": 12,
     "metadata": {},
     "output_type": "execute_result"
    }
   ],
   "source": [
    "#one_hot_represent---\n",
    "vocab_len = 50\n",
    "sent_one = [one_hot(word,vocab_len) for word in sentences]\n",
    "sent_one"
   ]
  },
  {
   "cell_type": "code",
   "execution_count": 13,
   "id": "a4e227ab",
   "metadata": {
    "execution": {
     "iopub.execute_input": "2023-03-30T12:49:49.107445Z",
     "iopub.status.busy": "2023-03-30T12:49:49.107066Z",
     "iopub.status.idle": "2023-03-30T12:49:49.114622Z",
     "shell.execute_reply": "2023-03-30T12:49:49.113495Z"
    },
    "papermill": {
     "duration": 0.018575,
     "end_time": "2023-03-30T12:49:49.116777",
     "exception": false,
     "start_time": "2023-03-30T12:49:49.098202",
     "status": "completed"
    },
    "tags": []
   },
   "outputs": [
    {
     "data": {
      "text/plain": [
       "array([[ 0,  0, 48, 49],\n",
       "       [ 0,  0,  2, 39],\n",
       "       [ 0,  0, 25,  6],\n",
       "       [ 0,  0, 49, 39],\n",
       "       [ 0,  0,  0,  2],\n",
       "       [ 0,  0,  0, 13],\n",
       "       [ 0,  0,  9,  6],\n",
       "       [ 0,  0, 23,  2],\n",
       "       [ 0,  0,  9, 39],\n",
       "       [48, 20, 49, 38]], dtype=int32)"
      ]
     },
     "execution_count": 13,
     "metadata": {},
     "output_type": "execute_result"
    }
   ],
   "source": [
    "#padding----\n",
    "sent_len = 4\n",
    "sent_pad = pad_sequences(sent_one,padding='pre',maxlen=sent_len)\n",
    "sent_pad"
   ]
  },
  {
   "cell_type": "code",
   "execution_count": 14,
   "id": "a469d89f",
   "metadata": {
    "execution": {
     "iopub.execute_input": "2023-03-30T12:49:49.133899Z",
     "iopub.status.busy": "2023-03-30T12:49:49.133484Z",
     "iopub.status.idle": "2023-03-30T12:49:49.204917Z",
     "shell.execute_reply": "2023-03-30T12:49:49.203535Z"
    },
    "papermill": {
     "duration": 0.085344,
     "end_time": "2023-03-30T12:49:49.209762",
     "exception": false,
     "start_time": "2023-03-30T12:49:49.124418",
     "status": "completed"
    },
    "tags": []
   },
   "outputs": [
    {
     "name": "stdout",
     "output_type": "stream",
     "text": [
      "Model: \"sequential_1\"\n",
      "_________________________________________________________________\n",
      " Layer (type)                Output Shape              Param #   \n",
      "=================================================================\n",
      " embedding_1 (Embedding)     (None, 4, 8)              400       \n",
      "                                                                 \n",
      " flatten (Flatten)           (None, 32)                0         \n",
      "                                                                 \n",
      " dense (Dense)               (None, 1)                 33        \n",
      "                                                                 \n",
      "=================================================================\n",
      "Total params: 433\n",
      "Trainable params: 433\n",
      "Non-trainable params: 0\n",
      "_________________________________________________________________\n"
     ]
    }
   ],
   "source": [
    "#Word_embedding----\n",
    "m = Sequential()\n",
    "m.add(Embedding(vocab_len,8,input_length=sent_len))\n",
    "m.add(Flatten())\n",
    "m.add(Dense(1,activation='sigmoid'))\n",
    "m.compile('adam','binary_crossentropy',metrics=['accuracy'])\n",
    "m.summary()"
   ]
  },
  {
   "cell_type": "code",
   "execution_count": 15,
   "id": "153914d2",
   "metadata": {
    "execution": {
     "iopub.execute_input": "2023-03-30T12:49:49.229516Z",
     "iopub.status.busy": "2023-03-30T12:49:49.228353Z",
     "iopub.status.idle": "2023-03-30T12:49:49.252917Z",
     "shell.execute_reply": "2023-03-30T12:49:49.251650Z"
    },
    "papermill": {
     "duration": 0.038226,
     "end_time": "2023-03-30T12:49:49.256618",
     "exception": false,
     "start_time": "2023-03-30T12:49:49.218392",
     "status": "completed"
    },
    "tags": []
   },
   "outputs": [
    {
     "name": "stdout",
     "output_type": "stream",
     "text": [
      "Model: \"sequential_1\"\n",
      "_________________________________________________________________\n",
      " Layer (type)                Output Shape              Param #   \n",
      "=================================================================\n",
      " embedding_1 (Embedding)     (None, 4, 8)              400       \n",
      "                                                                 \n",
      " flatten (Flatten)           (None, 32)                0         \n",
      "                                                                 \n",
      " dense (Dense)               (None, 1)                 33        \n",
      "                                                                 \n",
      "=================================================================\n",
      "Total params: 433\n",
      "Trainable params: 433\n",
      "Non-trainable params: 0\n",
      "_________________________________________________________________\n"
     ]
    }
   ],
   "source": [
    "m.summary()"
   ]
  },
  {
   "cell_type": "code",
   "execution_count": 16,
   "id": "c5cff1e6",
   "metadata": {
    "execution": {
     "iopub.execute_input": "2023-03-30T12:49:49.277702Z",
     "iopub.status.busy": "2023-03-30T12:49:49.277262Z",
     "iopub.status.idle": "2023-03-30T12:49:50.690794Z",
     "shell.execute_reply": "2023-03-30T12:49:50.689656Z"
    },
    "papermill": {
     "duration": 1.427227,
     "end_time": "2023-03-30T12:49:50.693444",
     "exception": false,
     "start_time": "2023-03-30T12:49:49.266217",
     "status": "completed"
    },
    "tags": []
   },
   "outputs": [
    {
     "name": "stdout",
     "output_type": "stream",
     "text": [
      "Accuracy: 80.000001\n"
     ]
    }
   ],
   "source": [
    "#fikt the model--\n",
    "m.fit(sent_pad,labels,epochs=50,verbose=0)\n",
    "#evulate the model--\n",
    "loss,accuracy = m.evaluate(sent_pad,labels,verbose=0)\n",
    "print('Accuracy: %f' % (accuracy*100))"
   ]
  },
  {
   "cell_type": "code",
   "execution_count": 17,
   "id": "baf4eb5a",
   "metadata": {
    "execution": {
     "iopub.execute_input": "2023-03-30T12:49:50.715176Z",
     "iopub.status.busy": "2023-03-30T12:49:50.713946Z",
     "iopub.status.idle": "2023-03-30T12:49:50.720465Z",
     "shell.execute_reply": "2023-03-30T12:49:50.719156Z"
    },
    "papermill": {
     "duration": 0.019924,
     "end_time": "2023-03-30T12:49:50.723018",
     "exception": false,
     "start_time": "2023-03-30T12:49:50.703094",
     "status": "completed"
    },
    "tags": []
   },
   "outputs": [
    {
     "name": "stdout",
     "output_type": "stream",
     "text": [
      "loss: 0.6399936676025391\n"
     ]
    }
   ],
   "source": [
    "print('loss:',loss)"
   ]
  },
  {
   "cell_type": "code",
   "execution_count": 18,
   "id": "0b77559b",
   "metadata": {
    "execution": {
     "iopub.execute_input": "2023-03-30T12:49:50.744210Z",
     "iopub.status.busy": "2023-03-30T12:49:50.743770Z",
     "iopub.status.idle": "2023-03-30T12:49:50.750123Z",
     "shell.execute_reply": "2023-03-30T12:49:50.748971Z"
    },
    "papermill": {
     "duration": 0.019931,
     "end_time": "2023-03-30T12:49:50.752544",
     "exception": false,
     "start_time": "2023-03-30T12:49:50.732613",
     "status": "completed"
    },
    "tags": []
   },
   "outputs": [
    {
     "data": {
      "text/plain": [
       "0.800000011920929"
      ]
     },
     "execution_count": 18,
     "metadata": {},
     "output_type": "execute_result"
    }
   ],
   "source": [
    "accuracy"
   ]
  },
  {
   "cell_type": "code",
   "execution_count": null,
   "id": "6226cca9",
   "metadata": {
    "papermill": {
     "duration": 0.009421,
     "end_time": "2023-03-30T12:49:50.771595",
     "exception": false,
     "start_time": "2023-03-30T12:49:50.762174",
     "status": "completed"
    },
    "tags": []
   },
   "outputs": [],
   "source": []
  }
 ],
 "metadata": {
  "kernelspec": {
   "display_name": "Python 3",
   "language": "python",
   "name": "python3"
  },
  "language_info": {
   "codemirror_mode": {
    "name": "ipython",
    "version": 3
   },
   "file_extension": ".py",
   "mimetype": "text/x-python",
   "name": "python",
   "nbconvert_exporter": "python",
   "pygments_lexer": "ipython3",
   "version": "3.7.12"
  },
  "papermill": {
   "default_parameters": {},
   "duration": 23.753948,
   "end_time": "2023-03-30T12:49:54.342921",
   "environment_variables": {},
   "exception": null,
   "input_path": "__notebook__.ipynb",
   "output_path": "__notebook__.ipynb",
   "parameters": {},
   "start_time": "2023-03-30T12:49:30.588973",
   "version": "2.4.0"
  }
 },
 "nbformat": 4,
 "nbformat_minor": 5
}
